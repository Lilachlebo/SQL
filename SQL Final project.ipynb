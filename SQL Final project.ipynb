{
 "cells": [
  {
   "cell_type": "markdown",
   "id": "c9493f04",
   "metadata": {},
   "source": [
    "# SQL project"
   ]
  },
  {
   "cell_type": "markdown",
   "id": "9aaefe0f",
   "metadata": {},
   "source": [
    "### Table Of Contents <a class=\"anchor\" id=\"table_of_contents\"></a>\n",
    "\n",
    "* [TASK DESCRIPTION](#task-description)\n",
    "* [Libraries Used](#Importing-libraries-)\n",
    "* [Accessing the DB](#Accessing-the-DB-)\n",
    "* [Observing tables](#Showing-tables-)\n",
    "* [Missing values](#Checking-for-missing-values-:-)\n",
    "* [Q1 - Find the number of books released after January 1, 2000.](#Q1-Find-the-number-of-books-released-after-January-1-,-2000.)\n",
    "* [Q2 - Find the number of user reviews and the average rating for each book](#Q2-Find-the-number-of-user-reviews-and-the-average-rating-for-each-book)\n",
    "* [Q3 - Identify the publisher that has released the greatest number of books with more than 50 pages](#Q3-Identify-the-publisher-that-has-released-the-greatest-number-of-books-with-more-than-50-pages)\n",
    "* [Q4 - Identify the author with the highest average book rating (look only at books with at least 50 ratings)](#Q4-Identify--the-author-with-the-highest-average-book-rating-(-look-only-at-books-with-at-least-50-ratings-))\n",
    "* [Q5 - Find the average number of text reviews among users who rated more than 50 books](#Q5-Find-the-average-number-of-text--reviews-among-users-who-rated-more-than-50-books)\n",
    "* [Conclusions](#Conclusions-)\n"
   ]
  },
  {
   "cell_type": "markdown",
   "id": "e9e1d4e2",
   "metadata": {},
   "source": [
    "### TASK DESCRIPTION:<a class=\"anchor\" id=\"chapter1\"></a>\n",
    "You've been given a database of one of book apps for book lovers. It contains data on books, publishers, authors, and customer ratings and reviews of books. This information will be used to generate a value proposition for a new product.\n",
    "\n",
    "Task:\n",
    "- Find the number of books released after January 1, 2000.\n",
    "- Find the number of user reviews and the average rating for each book.\n",
    "- Identify the publisher that has released the greatest number of books with more than 50 pages (this will help you exclude brochures and similar publications from your analysis).\n",
    "- Identify the author with the highest average book rating (look only at books with at least 50 ratings).\n",
    "- Find the average number of text reviews among users who rated more than 50 books.\n"
   ]
  },
  {
   "cell_type": "markdown",
   "id": "d84cf033",
   "metadata": {},
   "source": [
    "### Importing libraries:<a class=\"anchor\" id=\"chapter2\"></a>"
   ]
  },
  {
   "cell_type": "code",
   "execution_count": 1,
   "id": "81e0c807",
   "metadata": {},
   "outputs": [],
   "source": [
    "# import libraries\n",
    "import pandas as pd\n",
    "from sqlalchemy import create_engine"
   ]
  },
  {
   "cell_type": "code",
   "execution_count": 2,
   "id": "c9562e6d",
   "metadata": {},
   "outputs": [
    {
     "name": "stdout",
     "output_type": "stream",
     "text": [
      "Requirement already satisfied: psycopg2 in c:\\users\\user\\anaconda3\\lib\\site-packages (2.9.3)\n"
     ]
    }
   ],
   "source": [
    "! pip install psycopg2"
   ]
  },
  {
   "cell_type": "markdown",
   "id": "4727e83b",
   "metadata": {},
   "source": [
    "### Accessing the DB<a class=\"anchor\" id=\"chapter3\"></a>"
   ]
  },
  {
   "cell_type": "code",
   "execution_count": 3,
   "id": "38617e98",
   "metadata": {},
   "outputs": [],
   "source": [
    "\n",
    "\n",
    "db_config = {'user': 'praktikum_student',         # user name\n",
    "             'pwd': 'Sdf4$2;d-d30pp', # password\n",
    "             'host': 'rc1b-wcoijxj3yxfsf3fs.mdb.yandexcloud.net',\n",
    "             'port': 6432,              # connection port\n",
    "             'db': 'data-analyst-final-project-db'}          # the name of the data base\n",
    "\n",
    "connection_string = 'postgresql://{}:{}@{}:{}/{}'.format(db_config['user'],\n",
    "                                                                     db_config['pwd'],\n",
    "                                                                       db_config['host'],\n",
    "                                                                       db_config['port'],\n",
    "                                                                       db_config['db'])\n",
    "\n",
    "engine = create_engine(connection_string, connect_args={'sslmode':'require'})"
   ]
  },
  {
   "cell_type": "markdown",
   "id": "f2cd760f",
   "metadata": {},
   "source": [
    "### Showing tables:<a class=\"anchor\" id=\"chapter4\"></a>"
   ]
  },
  {
   "cell_type": "code",
   "execution_count": 4,
   "id": "eca17197",
   "metadata": {},
   "outputs": [
    {
     "name": "stdout",
     "output_type": "stream",
     "text": [
      "The books table:\n"
     ]
    },
    {
     "data": {
      "text/html": [
       "<div>\n",
       "<style scoped>\n",
       "    .dataframe tbody tr th:only-of-type {\n",
       "        vertical-align: middle;\n",
       "    }\n",
       "\n",
       "    .dataframe tbody tr th {\n",
       "        vertical-align: top;\n",
       "    }\n",
       "\n",
       "    .dataframe thead th {\n",
       "        text-align: right;\n",
       "    }\n",
       "</style>\n",
       "<table border=\"1\" class=\"dataframe\">\n",
       "  <thead>\n",
       "    <tr style=\"text-align: right;\">\n",
       "      <th></th>\n",
       "      <th>book_id</th>\n",
       "      <th>author_id</th>\n",
       "      <th>title</th>\n",
       "      <th>num_pages</th>\n",
       "      <th>publication_date</th>\n",
       "      <th>publisher_id</th>\n",
       "    </tr>\n",
       "  </thead>\n",
       "  <tbody>\n",
       "    <tr>\n",
       "      <th>0</th>\n",
       "      <td>1</td>\n",
       "      <td>546</td>\n",
       "      <td>'Salem's Lot</td>\n",
       "      <td>594</td>\n",
       "      <td>2005-11-01</td>\n",
       "      <td>93</td>\n",
       "    </tr>\n",
       "    <tr>\n",
       "      <th>1</th>\n",
       "      <td>2</td>\n",
       "      <td>465</td>\n",
       "      <td>1 000 Places to See Before You Die</td>\n",
       "      <td>992</td>\n",
       "      <td>2003-05-22</td>\n",
       "      <td>336</td>\n",
       "    </tr>\n",
       "    <tr>\n",
       "      <th>2</th>\n",
       "      <td>3</td>\n",
       "      <td>407</td>\n",
       "      <td>13 Little Blue Envelopes (Little Blue Envelope...</td>\n",
       "      <td>322</td>\n",
       "      <td>2010-12-21</td>\n",
       "      <td>135</td>\n",
       "    </tr>\n",
       "    <tr>\n",
       "      <th>3</th>\n",
       "      <td>4</td>\n",
       "      <td>82</td>\n",
       "      <td>1491: New Revelations of the Americas Before C...</td>\n",
       "      <td>541</td>\n",
       "      <td>2006-10-10</td>\n",
       "      <td>309</td>\n",
       "    </tr>\n",
       "    <tr>\n",
       "      <th>4</th>\n",
       "      <td>5</td>\n",
       "      <td>125</td>\n",
       "      <td>1776</td>\n",
       "      <td>386</td>\n",
       "      <td>2006-07-04</td>\n",
       "      <td>268</td>\n",
       "    </tr>\n",
       "    <tr>\n",
       "      <th>5</th>\n",
       "      <td>6</td>\n",
       "      <td>257</td>\n",
       "      <td>1st to Die (Women's Murder Club  #1)</td>\n",
       "      <td>424</td>\n",
       "      <td>2005-05-20</td>\n",
       "      <td>116</td>\n",
       "    </tr>\n",
       "    <tr>\n",
       "      <th>6</th>\n",
       "      <td>7</td>\n",
       "      <td>258</td>\n",
       "      <td>2nd Chance (Women's Murder Club  #2)</td>\n",
       "      <td>400</td>\n",
       "      <td>2005-05-20</td>\n",
       "      <td>116</td>\n",
       "    </tr>\n",
       "    <tr>\n",
       "      <th>7</th>\n",
       "      <td>8</td>\n",
       "      <td>260</td>\n",
       "      <td>4th of July (Women's Murder Club  #4)</td>\n",
       "      <td>448</td>\n",
       "      <td>2006-06-01</td>\n",
       "      <td>318</td>\n",
       "    </tr>\n",
       "    <tr>\n",
       "      <th>8</th>\n",
       "      <td>9</td>\n",
       "      <td>563</td>\n",
       "      <td>A Beautiful Mind</td>\n",
       "      <td>461</td>\n",
       "      <td>2002-02-04</td>\n",
       "      <td>104</td>\n",
       "    </tr>\n",
       "    <tr>\n",
       "      <th>9</th>\n",
       "      <td>10</td>\n",
       "      <td>445</td>\n",
       "      <td>A Bend in the Road</td>\n",
       "      <td>341</td>\n",
       "      <td>2005-04-01</td>\n",
       "      <td>116</td>\n",
       "    </tr>\n",
       "  </tbody>\n",
       "</table>\n",
       "</div>"
      ],
      "text/plain": [
       "   book_id  author_id                                              title  \\\n",
       "0        1        546                                       'Salem's Lot   \n",
       "1        2        465                 1 000 Places to See Before You Die   \n",
       "2        3        407  13 Little Blue Envelopes (Little Blue Envelope...   \n",
       "3        4         82  1491: New Revelations of the Americas Before C...   \n",
       "4        5        125                                               1776   \n",
       "5        6        257               1st to Die (Women's Murder Club  #1)   \n",
       "6        7        258               2nd Chance (Women's Murder Club  #2)   \n",
       "7        8        260              4th of July (Women's Murder Club  #4)   \n",
       "8        9        563                                   A Beautiful Mind   \n",
       "9       10        445                                 A Bend in the Road   \n",
       "\n",
       "   num_pages publication_date  publisher_id  \n",
       "0        594       2005-11-01            93  \n",
       "1        992       2003-05-22           336  \n",
       "2        322       2010-12-21           135  \n",
       "3        541       2006-10-10           309  \n",
       "4        386       2006-07-04           268  \n",
       "5        424       2005-05-20           116  \n",
       "6        400       2005-05-20           116  \n",
       "7        448       2006-06-01           318  \n",
       "8        461       2002-02-04           104  \n",
       "9        341       2005-04-01           116  "
      ]
     },
     "metadata": {},
     "output_type": "display_data"
    },
    {
     "name": "stdout",
     "output_type": "stream",
     "text": [
      "The authors table:\n"
     ]
    },
    {
     "data": {
      "text/html": [
       "<div>\n",
       "<style scoped>\n",
       "    .dataframe tbody tr th:only-of-type {\n",
       "        vertical-align: middle;\n",
       "    }\n",
       "\n",
       "    .dataframe tbody tr th {\n",
       "        vertical-align: top;\n",
       "    }\n",
       "\n",
       "    .dataframe thead th {\n",
       "        text-align: right;\n",
       "    }\n",
       "</style>\n",
       "<table border=\"1\" class=\"dataframe\">\n",
       "  <thead>\n",
       "    <tr style=\"text-align: right;\">\n",
       "      <th></th>\n",
       "      <th>author_id</th>\n",
       "      <th>author</th>\n",
       "    </tr>\n",
       "  </thead>\n",
       "  <tbody>\n",
       "    <tr>\n",
       "      <th>0</th>\n",
       "      <td>1</td>\n",
       "      <td>A.S. Byatt</td>\n",
       "    </tr>\n",
       "    <tr>\n",
       "      <th>1</th>\n",
       "      <td>2</td>\n",
       "      <td>Aesop/Laura Harris/Laura Gibbs</td>\n",
       "    </tr>\n",
       "    <tr>\n",
       "      <th>2</th>\n",
       "      <td>3</td>\n",
       "      <td>Agatha Christie</td>\n",
       "    </tr>\n",
       "    <tr>\n",
       "      <th>3</th>\n",
       "      <td>4</td>\n",
       "      <td>Alan Brennert</td>\n",
       "    </tr>\n",
       "    <tr>\n",
       "      <th>4</th>\n",
       "      <td>5</td>\n",
       "      <td>Alan Moore/David   Lloyd</td>\n",
       "    </tr>\n",
       "    <tr>\n",
       "      <th>5</th>\n",
       "      <td>6</td>\n",
       "      <td>Alan Paton</td>\n",
       "    </tr>\n",
       "    <tr>\n",
       "      <th>6</th>\n",
       "      <td>7</td>\n",
       "      <td>Albert Camus/Justin O'Brien</td>\n",
       "    </tr>\n",
       "    <tr>\n",
       "      <th>7</th>\n",
       "      <td>8</td>\n",
       "      <td>Aldous Huxley</td>\n",
       "    </tr>\n",
       "    <tr>\n",
       "      <th>8</th>\n",
       "      <td>9</td>\n",
       "      <td>Aldous Huxley/Christopher Hitchens</td>\n",
       "    </tr>\n",
       "    <tr>\n",
       "      <th>9</th>\n",
       "      <td>10</td>\n",
       "      <td>Aleksandr Solzhenitsyn/H.T. Willetts</td>\n",
       "    </tr>\n",
       "  </tbody>\n",
       "</table>\n",
       "</div>"
      ],
      "text/plain": [
       "   author_id                                author\n",
       "0          1                            A.S. Byatt\n",
       "1          2        Aesop/Laura Harris/Laura Gibbs\n",
       "2          3                       Agatha Christie\n",
       "3          4                         Alan Brennert\n",
       "4          5              Alan Moore/David   Lloyd\n",
       "5          6                            Alan Paton\n",
       "6          7           Albert Camus/Justin O'Brien\n",
       "7          8                         Aldous Huxley\n",
       "8          9    Aldous Huxley/Christopher Hitchens\n",
       "9         10  Aleksandr Solzhenitsyn/H.T. Willetts"
      ]
     },
     "metadata": {},
     "output_type": "display_data"
    },
    {
     "name": "stdout",
     "output_type": "stream",
     "text": [
      "The ratings table:\n"
     ]
    },
    {
     "data": {
      "text/html": [
       "<div>\n",
       "<style scoped>\n",
       "    .dataframe tbody tr th:only-of-type {\n",
       "        vertical-align: middle;\n",
       "    }\n",
       "\n",
       "    .dataframe tbody tr th {\n",
       "        vertical-align: top;\n",
       "    }\n",
       "\n",
       "    .dataframe thead th {\n",
       "        text-align: right;\n",
       "    }\n",
       "</style>\n",
       "<table border=\"1\" class=\"dataframe\">\n",
       "  <thead>\n",
       "    <tr style=\"text-align: right;\">\n",
       "      <th></th>\n",
       "      <th>rating_id</th>\n",
       "      <th>book_id</th>\n",
       "      <th>username</th>\n",
       "      <th>rating</th>\n",
       "    </tr>\n",
       "  </thead>\n",
       "  <tbody>\n",
       "    <tr>\n",
       "      <th>0</th>\n",
       "      <td>1</td>\n",
       "      <td>1</td>\n",
       "      <td>ryanfranco</td>\n",
       "      <td>4</td>\n",
       "    </tr>\n",
       "    <tr>\n",
       "      <th>1</th>\n",
       "      <td>2</td>\n",
       "      <td>1</td>\n",
       "      <td>grantpatricia</td>\n",
       "      <td>2</td>\n",
       "    </tr>\n",
       "    <tr>\n",
       "      <th>2</th>\n",
       "      <td>3</td>\n",
       "      <td>1</td>\n",
       "      <td>brandtandrea</td>\n",
       "      <td>5</td>\n",
       "    </tr>\n",
       "    <tr>\n",
       "      <th>3</th>\n",
       "      <td>4</td>\n",
       "      <td>2</td>\n",
       "      <td>lorichen</td>\n",
       "      <td>3</td>\n",
       "    </tr>\n",
       "    <tr>\n",
       "      <th>4</th>\n",
       "      <td>5</td>\n",
       "      <td>2</td>\n",
       "      <td>mariokeller</td>\n",
       "      <td>2</td>\n",
       "    </tr>\n",
       "    <tr>\n",
       "      <th>5</th>\n",
       "      <td>6</td>\n",
       "      <td>3</td>\n",
       "      <td>johnsonamanda</td>\n",
       "      <td>4</td>\n",
       "    </tr>\n",
       "    <tr>\n",
       "      <th>6</th>\n",
       "      <td>7</td>\n",
       "      <td>3</td>\n",
       "      <td>scotttamara</td>\n",
       "      <td>5</td>\n",
       "    </tr>\n",
       "    <tr>\n",
       "      <th>7</th>\n",
       "      <td>8</td>\n",
       "      <td>3</td>\n",
       "      <td>lesliegibbs</td>\n",
       "      <td>5</td>\n",
       "    </tr>\n",
       "    <tr>\n",
       "      <th>8</th>\n",
       "      <td>9</td>\n",
       "      <td>4</td>\n",
       "      <td>abbottjames</td>\n",
       "      <td>5</td>\n",
       "    </tr>\n",
       "    <tr>\n",
       "      <th>9</th>\n",
       "      <td>10</td>\n",
       "      <td>4</td>\n",
       "      <td>valenciaanne</td>\n",
       "      <td>4</td>\n",
       "    </tr>\n",
       "  </tbody>\n",
       "</table>\n",
       "</div>"
      ],
      "text/plain": [
       "   rating_id  book_id       username  rating\n",
       "0          1        1     ryanfranco       4\n",
       "1          2        1  grantpatricia       2\n",
       "2          3        1   brandtandrea       5\n",
       "3          4        2       lorichen       3\n",
       "4          5        2    mariokeller       2\n",
       "5          6        3  johnsonamanda       4\n",
       "6          7        3    scotttamara       5\n",
       "7          8        3    lesliegibbs       5\n",
       "8          9        4    abbottjames       5\n",
       "9         10        4   valenciaanne       4"
      ]
     },
     "metadata": {},
     "output_type": "display_data"
    },
    {
     "name": "stdout",
     "output_type": "stream",
     "text": [
      "The reviews table:\n"
     ]
    },
    {
     "data": {
      "text/html": [
       "<div>\n",
       "<style scoped>\n",
       "    .dataframe tbody tr th:only-of-type {\n",
       "        vertical-align: middle;\n",
       "    }\n",
       "\n",
       "    .dataframe tbody tr th {\n",
       "        vertical-align: top;\n",
       "    }\n",
       "\n",
       "    .dataframe thead th {\n",
       "        text-align: right;\n",
       "    }\n",
       "</style>\n",
       "<table border=\"1\" class=\"dataframe\">\n",
       "  <thead>\n",
       "    <tr style=\"text-align: right;\">\n",
       "      <th></th>\n",
       "      <th>review_id</th>\n",
       "      <th>book_id</th>\n",
       "      <th>username</th>\n",
       "      <th>text</th>\n",
       "    </tr>\n",
       "  </thead>\n",
       "  <tbody>\n",
       "    <tr>\n",
       "      <th>0</th>\n",
       "      <td>1</td>\n",
       "      <td>1</td>\n",
       "      <td>brandtandrea</td>\n",
       "      <td>Mention society tell send professor analysis. ...</td>\n",
       "    </tr>\n",
       "    <tr>\n",
       "      <th>1</th>\n",
       "      <td>2</td>\n",
       "      <td>1</td>\n",
       "      <td>ryanfranco</td>\n",
       "      <td>Foot glass pretty audience hit themselves. Amo...</td>\n",
       "    </tr>\n",
       "    <tr>\n",
       "      <th>2</th>\n",
       "      <td>3</td>\n",
       "      <td>2</td>\n",
       "      <td>lorichen</td>\n",
       "      <td>Listen treat keep worry. Miss husband tax but ...</td>\n",
       "    </tr>\n",
       "    <tr>\n",
       "      <th>3</th>\n",
       "      <td>4</td>\n",
       "      <td>3</td>\n",
       "      <td>johnsonamanda</td>\n",
       "      <td>Finally month interesting blue could nature cu...</td>\n",
       "    </tr>\n",
       "    <tr>\n",
       "      <th>4</th>\n",
       "      <td>5</td>\n",
       "      <td>3</td>\n",
       "      <td>scotttamara</td>\n",
       "      <td>Nation purpose heavy give wait song will. List...</td>\n",
       "    </tr>\n",
       "    <tr>\n",
       "      <th>5</th>\n",
       "      <td>6</td>\n",
       "      <td>3</td>\n",
       "      <td>lesliegibbs</td>\n",
       "      <td>Analysis no several cause international.</td>\n",
       "    </tr>\n",
       "    <tr>\n",
       "      <th>6</th>\n",
       "      <td>7</td>\n",
       "      <td>4</td>\n",
       "      <td>valenciaanne</td>\n",
       "      <td>One there cost another. Say type save. With pe...</td>\n",
       "    </tr>\n",
       "    <tr>\n",
       "      <th>7</th>\n",
       "      <td>8</td>\n",
       "      <td>4</td>\n",
       "      <td>abbottjames</td>\n",
       "      <td>Within enough mother. There at system full rec...</td>\n",
       "    </tr>\n",
       "    <tr>\n",
       "      <th>8</th>\n",
       "      <td>9</td>\n",
       "      <td>5</td>\n",
       "      <td>npowers</td>\n",
       "      <td>Thank now focus realize economy focus fly. Ite...</td>\n",
       "    </tr>\n",
       "    <tr>\n",
       "      <th>9</th>\n",
       "      <td>10</td>\n",
       "      <td>5</td>\n",
       "      <td>staylor</td>\n",
       "      <td>Game push lot reduce where remember. Including...</td>\n",
       "    </tr>\n",
       "  </tbody>\n",
       "</table>\n",
       "</div>"
      ],
      "text/plain": [
       "   review_id  book_id       username  \\\n",
       "0          1        1   brandtandrea   \n",
       "1          2        1     ryanfranco   \n",
       "2          3        2       lorichen   \n",
       "3          4        3  johnsonamanda   \n",
       "4          5        3    scotttamara   \n",
       "5          6        3    lesliegibbs   \n",
       "6          7        4   valenciaanne   \n",
       "7          8        4    abbottjames   \n",
       "8          9        5        npowers   \n",
       "9         10        5        staylor   \n",
       "\n",
       "                                                text  \n",
       "0  Mention society tell send professor analysis. ...  \n",
       "1  Foot glass pretty audience hit themselves. Amo...  \n",
       "2  Listen treat keep worry. Miss husband tax but ...  \n",
       "3  Finally month interesting blue could nature cu...  \n",
       "4  Nation purpose heavy give wait song will. List...  \n",
       "5           Analysis no several cause international.  \n",
       "6  One there cost another. Say type save. With pe...  \n",
       "7  Within enough mother. There at system full rec...  \n",
       "8  Thank now focus realize economy focus fly. Ite...  \n",
       "9  Game push lot reduce where remember. Including...  "
      ]
     },
     "metadata": {},
     "output_type": "display_data"
    },
    {
     "name": "stdout",
     "output_type": "stream",
     "text": [
      "The publishers table:\n"
     ]
    },
    {
     "data": {
      "text/html": [
       "<div>\n",
       "<style scoped>\n",
       "    .dataframe tbody tr th:only-of-type {\n",
       "        vertical-align: middle;\n",
       "    }\n",
       "\n",
       "    .dataframe tbody tr th {\n",
       "        vertical-align: top;\n",
       "    }\n",
       "\n",
       "    .dataframe thead th {\n",
       "        text-align: right;\n",
       "    }\n",
       "</style>\n",
       "<table border=\"1\" class=\"dataframe\">\n",
       "  <thead>\n",
       "    <tr style=\"text-align: right;\">\n",
       "      <th></th>\n",
       "      <th>publisher_id</th>\n",
       "      <th>publisher</th>\n",
       "    </tr>\n",
       "  </thead>\n",
       "  <tbody>\n",
       "    <tr>\n",
       "      <th>0</th>\n",
       "      <td>1</td>\n",
       "      <td>Ace</td>\n",
       "    </tr>\n",
       "    <tr>\n",
       "      <th>1</th>\n",
       "      <td>2</td>\n",
       "      <td>Ace Book</td>\n",
       "    </tr>\n",
       "    <tr>\n",
       "      <th>2</th>\n",
       "      <td>3</td>\n",
       "      <td>Ace Books</td>\n",
       "    </tr>\n",
       "    <tr>\n",
       "      <th>3</th>\n",
       "      <td>4</td>\n",
       "      <td>Ace Hardcover</td>\n",
       "    </tr>\n",
       "    <tr>\n",
       "      <th>4</th>\n",
       "      <td>5</td>\n",
       "      <td>Addison Wesley Publishing Company</td>\n",
       "    </tr>\n",
       "    <tr>\n",
       "      <th>5</th>\n",
       "      <td>6</td>\n",
       "      <td>Aladdin</td>\n",
       "    </tr>\n",
       "    <tr>\n",
       "      <th>6</th>\n",
       "      <td>7</td>\n",
       "      <td>Aladdin Paperbacks</td>\n",
       "    </tr>\n",
       "    <tr>\n",
       "      <th>7</th>\n",
       "      <td>8</td>\n",
       "      <td>Albin Michel</td>\n",
       "    </tr>\n",
       "    <tr>\n",
       "      <th>8</th>\n",
       "      <td>9</td>\n",
       "      <td>Alfred A. Knopf</td>\n",
       "    </tr>\n",
       "    <tr>\n",
       "      <th>9</th>\n",
       "      <td>10</td>\n",
       "      <td>Alfred A. Knopf Books for Young Readers</td>\n",
       "    </tr>\n",
       "  </tbody>\n",
       "</table>\n",
       "</div>"
      ],
      "text/plain": [
       "   publisher_id                                publisher\n",
       "0             1                                      Ace\n",
       "1             2                                 Ace Book\n",
       "2             3                                Ace Books\n",
       "3             4                            Ace Hardcover\n",
       "4             5        Addison Wesley Publishing Company\n",
       "5             6                                  Aladdin\n",
       "6             7                       Aladdin Paperbacks\n",
       "7             8                             Albin Michel\n",
       "8             9                          Alfred A. Knopf\n",
       "9            10  Alfred A. Knopf Books for Young Readers"
      ]
     },
     "metadata": {},
     "output_type": "display_data"
    }
   ],
   "source": [
    "tables= ['books', 'authors', 'ratings', 'reviews', 'publishers']\n",
    "for i in tables:\n",
    "    print (\"The {} table:\".format(i))\n",
    "    query = '''\n",
    "        SELECT *\n",
    "        FROM {}\n",
    "        LIMIT 10\n",
    "    '''.format(i)\n",
    "    display(pd.io.sql.read_sql(query, con=engine))"
   ]
  },
  {
   "cell_type": "markdown",
   "id": "c34587b9",
   "metadata": {},
   "source": [
    "### Checking for missing values:<a class=\"anchor\" id=\"chapter5\"></a>\n",
    "(none were found)"
   ]
  },
  {
   "cell_type": "code",
   "execution_count": 5,
   "id": "d37b66e4",
   "metadata": {},
   "outputs": [
    {
     "name": "stdout",
     "output_type": "stream",
     "text": [
      "Missing values for table books\n"
     ]
    },
    {
     "data": {
      "text/html": [
       "<div>\n",
       "<style scoped>\n",
       "    .dataframe tbody tr th:only-of-type {\n",
       "        vertical-align: middle;\n",
       "    }\n",
       "\n",
       "    .dataframe tbody tr th {\n",
       "        vertical-align: top;\n",
       "    }\n",
       "\n",
       "    .dataframe thead th {\n",
       "        text-align: right;\n",
       "    }\n",
       "</style>\n",
       "<table border=\"1\" class=\"dataframe\">\n",
       "  <thead>\n",
       "    <tr style=\"text-align: right;\">\n",
       "      <th></th>\n",
       "      <th>book_id</th>\n",
       "      <th>author_id</th>\n",
       "      <th>title</th>\n",
       "      <th>num_pages</th>\n",
       "      <th>publication_date</th>\n",
       "      <th>publisher_id</th>\n",
       "    </tr>\n",
       "  </thead>\n",
       "  <tbody>\n",
       "  </tbody>\n",
       "</table>\n",
       "</div>"
      ],
      "text/plain": [
       "Empty DataFrame\n",
       "Columns: [book_id, author_id, title, num_pages, publication_date, publisher_id]\n",
       "Index: []"
      ]
     },
     "metadata": {},
     "output_type": "display_data"
    },
    {
     "name": "stdout",
     "output_type": "stream",
     "text": [
      "Missing values for table authors\n"
     ]
    },
    {
     "data": {
      "text/html": [
       "<div>\n",
       "<style scoped>\n",
       "    .dataframe tbody tr th:only-of-type {\n",
       "        vertical-align: middle;\n",
       "    }\n",
       "\n",
       "    .dataframe tbody tr th {\n",
       "        vertical-align: top;\n",
       "    }\n",
       "\n",
       "    .dataframe thead th {\n",
       "        text-align: right;\n",
       "    }\n",
       "</style>\n",
       "<table border=\"1\" class=\"dataframe\">\n",
       "  <thead>\n",
       "    <tr style=\"text-align: right;\">\n",
       "      <th></th>\n",
       "      <th>author_id</th>\n",
       "      <th>author</th>\n",
       "    </tr>\n",
       "  </thead>\n",
       "  <tbody>\n",
       "  </tbody>\n",
       "</table>\n",
       "</div>"
      ],
      "text/plain": [
       "Empty DataFrame\n",
       "Columns: [author_id, author]\n",
       "Index: []"
      ]
     },
     "metadata": {},
     "output_type": "display_data"
    },
    {
     "name": "stdout",
     "output_type": "stream",
     "text": [
      "Missing values for table ratings\n"
     ]
    },
    {
     "data": {
      "text/html": [
       "<div>\n",
       "<style scoped>\n",
       "    .dataframe tbody tr th:only-of-type {\n",
       "        vertical-align: middle;\n",
       "    }\n",
       "\n",
       "    .dataframe tbody tr th {\n",
       "        vertical-align: top;\n",
       "    }\n",
       "\n",
       "    .dataframe thead th {\n",
       "        text-align: right;\n",
       "    }\n",
       "</style>\n",
       "<table border=\"1\" class=\"dataframe\">\n",
       "  <thead>\n",
       "    <tr style=\"text-align: right;\">\n",
       "      <th></th>\n",
       "      <th>rating_id</th>\n",
       "      <th>book_id</th>\n",
       "      <th>username</th>\n",
       "      <th>rating</th>\n",
       "    </tr>\n",
       "  </thead>\n",
       "  <tbody>\n",
       "  </tbody>\n",
       "</table>\n",
       "</div>"
      ],
      "text/plain": [
       "Empty DataFrame\n",
       "Columns: [rating_id, book_id, username, rating]\n",
       "Index: []"
      ]
     },
     "metadata": {},
     "output_type": "display_data"
    },
    {
     "name": "stdout",
     "output_type": "stream",
     "text": [
      "Missing values for table reviews\n"
     ]
    },
    {
     "data": {
      "text/html": [
       "<div>\n",
       "<style scoped>\n",
       "    .dataframe tbody tr th:only-of-type {\n",
       "        vertical-align: middle;\n",
       "    }\n",
       "\n",
       "    .dataframe tbody tr th {\n",
       "        vertical-align: top;\n",
       "    }\n",
       "\n",
       "    .dataframe thead th {\n",
       "        text-align: right;\n",
       "    }\n",
       "</style>\n",
       "<table border=\"1\" class=\"dataframe\">\n",
       "  <thead>\n",
       "    <tr style=\"text-align: right;\">\n",
       "      <th></th>\n",
       "      <th>review_id</th>\n",
       "      <th>book_id</th>\n",
       "      <th>username</th>\n",
       "      <th>text</th>\n",
       "    </tr>\n",
       "  </thead>\n",
       "  <tbody>\n",
       "  </tbody>\n",
       "</table>\n",
       "</div>"
      ],
      "text/plain": [
       "Empty DataFrame\n",
       "Columns: [review_id, book_id, username, text]\n",
       "Index: []"
      ]
     },
     "metadata": {},
     "output_type": "display_data"
    },
    {
     "name": "stdout",
     "output_type": "stream",
     "text": [
      "Missing values for table publishers\n"
     ]
    },
    {
     "data": {
      "text/html": [
       "<div>\n",
       "<style scoped>\n",
       "    .dataframe tbody tr th:only-of-type {\n",
       "        vertical-align: middle;\n",
       "    }\n",
       "\n",
       "    .dataframe tbody tr th {\n",
       "        vertical-align: top;\n",
       "    }\n",
       "\n",
       "    .dataframe thead th {\n",
       "        text-align: right;\n",
       "    }\n",
       "</style>\n",
       "<table border=\"1\" class=\"dataframe\">\n",
       "  <thead>\n",
       "    <tr style=\"text-align: right;\">\n",
       "      <th></th>\n",
       "      <th>publisher_id</th>\n",
       "      <th>publisher</th>\n",
       "    </tr>\n",
       "  </thead>\n",
       "  <tbody>\n",
       "  </tbody>\n",
       "</table>\n",
       "</div>"
      ],
      "text/plain": [
       "Empty DataFrame\n",
       "Columns: [publisher_id, publisher]\n",
       "Index: []"
      ]
     },
     "metadata": {},
     "output_type": "display_data"
    }
   ],
   "source": [
    "tables= ['books', 'authors', 'ratings', 'reviews', 'publishers']\n",
    "for i in tables:\n",
    "    print (\"Missing values for table {}\".format(i))\n",
    "    query = '''\n",
    "        SELECT *\n",
    "        FROM {}\n",
    "        WHERE ({} is null)\n",
    "        '''.format(i, i)\n",
    "    display(pd.io.sql.read_sql(query, con=engine))"
   ]
  },
  {
   "cell_type": "markdown",
   "id": "f901a2db",
   "metadata": {},
   "source": [
    "## Q1 - Find the number of books released after January 1, 2000 <a class=\"anchor\" id=\"chapter6\"></a>"
   ]
  },
  {
   "cell_type": "code",
   "execution_count": 6,
   "id": "ab9a7461",
   "metadata": {},
   "outputs": [],
   "source": [
    "query= \"\"\"\n",
    "    SELECT COUNT(book_id)\n",
    "    FROM books\n",
    "    WHERE publication_date > '2000-01-01';\n",
    "    \"\"\""
   ]
  },
  {
   "cell_type": "code",
   "execution_count": 7,
   "id": "ce5fbd14",
   "metadata": {},
   "outputs": [
    {
     "data": {
      "text/html": [
       "<div>\n",
       "<style scoped>\n",
       "    .dataframe tbody tr th:only-of-type {\n",
       "        vertical-align: middle;\n",
       "    }\n",
       "\n",
       "    .dataframe tbody tr th {\n",
       "        vertical-align: top;\n",
       "    }\n",
       "\n",
       "    .dataframe thead th {\n",
       "        text-align: right;\n",
       "    }\n",
       "</style>\n",
       "<table border=\"1\" class=\"dataframe\">\n",
       "  <thead>\n",
       "    <tr style=\"text-align: right;\">\n",
       "      <th></th>\n",
       "      <th>count</th>\n",
       "    </tr>\n",
       "  </thead>\n",
       "  <tbody>\n",
       "    <tr>\n",
       "      <th>0</th>\n",
       "      <td>819</td>\n",
       "    </tr>\n",
       "  </tbody>\n",
       "</table>\n",
       "</div>"
      ],
      "text/plain": [
       "   count\n",
       "0    819"
      ]
     },
     "execution_count": 7,
     "metadata": {},
     "output_type": "execute_result"
    }
   ],
   "source": [
    "table= pd.io.sql.read_sql(query, con = engine)\n",
    "table"
   ]
  },
  {
   "cell_type": "markdown",
   "id": "e7d968df",
   "metadata": {},
   "source": [
    "**# After January 1, 2000 there were 819 books released**."
   ]
  },
  {
   "cell_type": "markdown",
   "id": "33d4e0eb",
   "metadata": {},
   "source": [
    "## Q2 - Find the number of user reviews and the average rating for each book <a class=\"anchor\" id=\"chapter7\"></a>\n"
   ]
  },
  {
   "cell_type": "code",
   "execution_count": 8,
   "id": "87a247ed",
   "metadata": {
    "scrolled": true
   },
   "outputs": [
    {
     "data": {
      "text/html": [
       "<div>\n",
       "<style scoped>\n",
       "    .dataframe tbody tr th:only-of-type {\n",
       "        vertical-align: middle;\n",
       "    }\n",
       "\n",
       "    .dataframe tbody tr th {\n",
       "        vertical-align: top;\n",
       "    }\n",
       "\n",
       "    .dataframe thead th {\n",
       "        text-align: right;\n",
       "    }\n",
       "</style>\n",
       "<table border=\"1\" class=\"dataframe\">\n",
       "  <thead>\n",
       "    <tr style=\"text-align: right;\">\n",
       "      <th></th>\n",
       "      <th>title</th>\n",
       "      <th>review_count</th>\n",
       "      <th>average_rating</th>\n",
       "    </tr>\n",
       "  </thead>\n",
       "  <tbody>\n",
       "    <tr>\n",
       "      <th>0</th>\n",
       "      <td>'Salem's Lot</td>\n",
       "      <td>2.0</td>\n",
       "      <td>3.666667</td>\n",
       "    </tr>\n",
       "    <tr>\n",
       "      <th>1</th>\n",
       "      <td>1 000 Places to See Before You Die</td>\n",
       "      <td>1.0</td>\n",
       "      <td>2.500000</td>\n",
       "    </tr>\n",
       "    <tr>\n",
       "      <th>2</th>\n",
       "      <td>13 Little Blue Envelopes (Little Blue Envelope...</td>\n",
       "      <td>3.0</td>\n",
       "      <td>4.666667</td>\n",
       "    </tr>\n",
       "    <tr>\n",
       "      <th>3</th>\n",
       "      <td>1491: New Revelations of the Americas Before C...</td>\n",
       "      <td>2.0</td>\n",
       "      <td>4.500000</td>\n",
       "    </tr>\n",
       "    <tr>\n",
       "      <th>4</th>\n",
       "      <td>1776</td>\n",
       "      <td>4.0</td>\n",
       "      <td>4.000000</td>\n",
       "    </tr>\n",
       "    <tr>\n",
       "      <th>...</th>\n",
       "      <td>...</td>\n",
       "      <td>...</td>\n",
       "      <td>...</td>\n",
       "    </tr>\n",
       "    <tr>\n",
       "      <th>995</th>\n",
       "      <td>Wyrd Sisters (Discworld  #6; Witches #2)</td>\n",
       "      <td>3.0</td>\n",
       "      <td>3.666667</td>\n",
       "    </tr>\n",
       "    <tr>\n",
       "      <th>996</th>\n",
       "      <td>Xenocide (Ender's Saga  #3)</td>\n",
       "      <td>3.0</td>\n",
       "      <td>3.400000</td>\n",
       "    </tr>\n",
       "    <tr>\n",
       "      <th>997</th>\n",
       "      <td>Year of Wonders</td>\n",
       "      <td>4.0</td>\n",
       "      <td>3.200000</td>\n",
       "    </tr>\n",
       "    <tr>\n",
       "      <th>998</th>\n",
       "      <td>You Suck (A Love Story  #2)</td>\n",
       "      <td>2.0</td>\n",
       "      <td>4.500000</td>\n",
       "    </tr>\n",
       "    <tr>\n",
       "      <th>999</th>\n",
       "      <td>Zen and the Art of Motorcycle Maintenance: An ...</td>\n",
       "      <td>4.0</td>\n",
       "      <td>3.833333</td>\n",
       "    </tr>\n",
       "  </tbody>\n",
       "</table>\n",
       "<p>1000 rows × 3 columns</p>\n",
       "</div>"
      ],
      "text/plain": [
       "                                                 title  review_count  \\\n",
       "0                                         'Salem's Lot           2.0   \n",
       "1                   1 000 Places to See Before You Die           1.0   \n",
       "2    13 Little Blue Envelopes (Little Blue Envelope...           3.0   \n",
       "3    1491: New Revelations of the Americas Before C...           2.0   \n",
       "4                                                 1776           4.0   \n",
       "..                                                 ...           ...   \n",
       "995           Wyrd Sisters (Discworld  #6; Witches #2)           3.0   \n",
       "996                        Xenocide (Ender's Saga  #3)           3.0   \n",
       "997                                    Year of Wonders           4.0   \n",
       "998                        You Suck (A Love Story  #2)           2.0   \n",
       "999  Zen and the Art of Motorcycle Maintenance: An ...           4.0   \n",
       "\n",
       "     average_rating  \n",
       "0          3.666667  \n",
       "1          2.500000  \n",
       "2          4.666667  \n",
       "3          4.500000  \n",
       "4          4.000000  \n",
       "..              ...  \n",
       "995        3.666667  \n",
       "996        3.400000  \n",
       "997        3.200000  \n",
       "998        4.500000  \n",
       "999        3.833333  \n",
       "\n",
       "[1000 rows x 3 columns]"
      ]
     },
     "execution_count": 8,
     "metadata": {},
     "output_type": "execute_result"
    }
   ],
   "source": [
    "query= '''\n",
    "    WITH\n",
    "    c AS (SELECT book_id, \n",
    "                 COUNT(review_id) as review_count\n",
    "              FROM reviews\n",
    "              GROUP BY book_id),\n",
    "              \n",
    "    a AS (SELECT book_id,\n",
    "                AVG(rating) as average_rating\n",
    "                FROM ratings\n",
    "                GROUP BY book_id),\n",
    "                \n",
    "   t AS (SELECT book_id,\n",
    "                title\n",
    "            FROM books\n",
    "            GROUP BY book_id) \n",
    "            \n",
    "                \n",
    "    SELECT t.title,\n",
    "            c.review_count,\n",
    "            a.average_rating\n",
    "    FROM t \n",
    "        left join a on t.book_id = a.book_id\n",
    "        left join c on t.book_id= c.book_id\n",
    "    ORDER BY t.title\n",
    "    \n",
    "'''\n",
    "table= pd.io.sql.read_sql(query, con = engine)\n",
    "table"
   ]
  },
  {
   "cell_type": "markdown",
   "id": "6523c697",
   "metadata": {},
   "source": [
    "**# The table above shows a list of 1000 book titles, with the number of reviews each one got and their average rating.**"
   ]
  },
  {
   "cell_type": "markdown",
   "id": "b559fca8",
   "metadata": {},
   "source": [
    "#### - Another option:"
   ]
  },
  {
   "cell_type": "code",
   "execution_count": 9,
   "id": "9ca64893",
   "metadata": {},
   "outputs": [
    {
     "data": {
      "text/html": [
       "<div>\n",
       "<style scoped>\n",
       "    .dataframe tbody tr th:only-of-type {\n",
       "        vertical-align: middle;\n",
       "    }\n",
       "\n",
       "    .dataframe tbody tr th {\n",
       "        vertical-align: top;\n",
       "    }\n",
       "\n",
       "    .dataframe thead th {\n",
       "        text-align: right;\n",
       "    }\n",
       "</style>\n",
       "<table border=\"1\" class=\"dataframe\">\n",
       "  <thead>\n",
       "    <tr style=\"text-align: right;\">\n",
       "      <th></th>\n",
       "      <th>title</th>\n",
       "      <th>reviews_count</th>\n",
       "      <th>average_rating</th>\n",
       "    </tr>\n",
       "  </thead>\n",
       "  <tbody>\n",
       "    <tr>\n",
       "      <th>0</th>\n",
       "      <td>'Salem's Lot</td>\n",
       "      <td>2.0</td>\n",
       "      <td>3.666667</td>\n",
       "    </tr>\n",
       "    <tr>\n",
       "      <th>1</th>\n",
       "      <td>1 000 Places to See Before You Die</td>\n",
       "      <td>1.0</td>\n",
       "      <td>2.500000</td>\n",
       "    </tr>\n",
       "    <tr>\n",
       "      <th>2</th>\n",
       "      <td>13 Little Blue Envelopes (Little Blue Envelope...</td>\n",
       "      <td>3.0</td>\n",
       "      <td>4.666667</td>\n",
       "    </tr>\n",
       "    <tr>\n",
       "      <th>3</th>\n",
       "      <td>1491: New Revelations of the Americas Before C...</td>\n",
       "      <td>2.0</td>\n",
       "      <td>4.500000</td>\n",
       "    </tr>\n",
       "    <tr>\n",
       "      <th>4</th>\n",
       "      <td>1776</td>\n",
       "      <td>4.0</td>\n",
       "      <td>4.000000</td>\n",
       "    </tr>\n",
       "    <tr>\n",
       "      <th>...</th>\n",
       "      <td>...</td>\n",
       "      <td>...</td>\n",
       "      <td>...</td>\n",
       "    </tr>\n",
       "    <tr>\n",
       "      <th>995</th>\n",
       "      <td>Wyrd Sisters (Discworld  #6; Witches #2)</td>\n",
       "      <td>3.0</td>\n",
       "      <td>3.666667</td>\n",
       "    </tr>\n",
       "    <tr>\n",
       "      <th>996</th>\n",
       "      <td>Xenocide (Ender's Saga  #3)</td>\n",
       "      <td>3.0</td>\n",
       "      <td>3.400000</td>\n",
       "    </tr>\n",
       "    <tr>\n",
       "      <th>997</th>\n",
       "      <td>Year of Wonders</td>\n",
       "      <td>4.0</td>\n",
       "      <td>3.200000</td>\n",
       "    </tr>\n",
       "    <tr>\n",
       "      <th>998</th>\n",
       "      <td>You Suck (A Love Story  #2)</td>\n",
       "      <td>2.0</td>\n",
       "      <td>4.500000</td>\n",
       "    </tr>\n",
       "    <tr>\n",
       "      <th>999</th>\n",
       "      <td>Zen and the Art of Motorcycle Maintenance: An ...</td>\n",
       "      <td>4.0</td>\n",
       "      <td>3.833333</td>\n",
       "    </tr>\n",
       "  </tbody>\n",
       "</table>\n",
       "<p>1000 rows × 3 columns</p>\n",
       "</div>"
      ],
      "text/plain": [
       "                                                 title  reviews_count  \\\n",
       "0                                         'Salem's Lot            2.0   \n",
       "1                   1 000 Places to See Before You Die            1.0   \n",
       "2    13 Little Blue Envelopes (Little Blue Envelope...            3.0   \n",
       "3    1491: New Revelations of the Americas Before C...            2.0   \n",
       "4                                                 1776            4.0   \n",
       "..                                                 ...            ...   \n",
       "995           Wyrd Sisters (Discworld  #6; Witches #2)            3.0   \n",
       "996                        Xenocide (Ender's Saga  #3)            3.0   \n",
       "997                                    Year of Wonders            4.0   \n",
       "998                        You Suck (A Love Story  #2)            2.0   \n",
       "999  Zen and the Art of Motorcycle Maintenance: An ...            4.0   \n",
       "\n",
       "     average_rating  \n",
       "0          3.666667  \n",
       "1          2.500000  \n",
       "2          4.666667  \n",
       "3          4.500000  \n",
       "4          4.000000  \n",
       "..              ...  \n",
       "995        3.666667  \n",
       "996        3.400000  \n",
       "997        3.200000  \n",
       "998        4.500000  \n",
       "999        3.833333  \n",
       "\n",
       "[1000 rows x 3 columns]"
      ]
     },
     "execution_count": 9,
     "metadata": {},
     "output_type": "execute_result"
    }
   ],
   "source": [
    "query= '''\n",
    "    SELECT b.title, c.reviews_count, a.average_rating \n",
    "    FROM books as b\n",
    "        LEFT JOIN (SELECT book_id, COUNT(review_id) as reviews_count\n",
    "                  FROM reviews\n",
    "                  GROUP BY book_id) as c \n",
    "            ON b.book_id = c.book_id \n",
    "        LEFT JOIN (SELECT book_id, AVG(rating) as average_rating\n",
    "                FROM ratings\n",
    "                GROUP BY book_id) as a\n",
    "            ON b.book_id = a.book_id\n",
    "    ORDER BY b.title\n",
    "'''\n",
    "question2= pd.io.sql.read_sql(query, con = engine)\n",
    "question2"
   ]
  },
  {
   "cell_type": "markdown",
   "id": "64ff4334",
   "metadata": {},
   "source": [
    "### Q3- Identify the publisher that has released the greatest number of books with more than 50 pages <a class=\"anchor\" id=\"chapter8\"></a>"
   ]
  },
  {
   "cell_type": "code",
   "execution_count": 10,
   "id": "494e1eeb",
   "metadata": {},
   "outputs": [],
   "source": [
    "\n",
    "query= \"\"\"\n",
    "    SELECT publishers.publisher,\n",
    "           COUNT(book_id) AS long_books_count\n",
    "    FROM publishers left join books on publishers.publisher_id = books.publisher_id\n",
    "    WHERE books.num_pages > 50 \n",
    "    GROUP BY publishers.publisher\n",
    "    ORDER BY long_books_count desc\n",
    "    LIMIT 1; \n",
    "    \"\"\""
   ]
  },
  {
   "cell_type": "code",
   "execution_count": 11,
   "id": "cc6d463b",
   "metadata": {
    "scrolled": true
   },
   "outputs": [
    {
     "data": {
      "text/html": [
       "<div>\n",
       "<style scoped>\n",
       "    .dataframe tbody tr th:only-of-type {\n",
       "        vertical-align: middle;\n",
       "    }\n",
       "\n",
       "    .dataframe tbody tr th {\n",
       "        vertical-align: top;\n",
       "    }\n",
       "\n",
       "    .dataframe thead th {\n",
       "        text-align: right;\n",
       "    }\n",
       "</style>\n",
       "<table border=\"1\" class=\"dataframe\">\n",
       "  <thead>\n",
       "    <tr style=\"text-align: right;\">\n",
       "      <th></th>\n",
       "      <th>publisher</th>\n",
       "      <th>long_books_count</th>\n",
       "    </tr>\n",
       "  </thead>\n",
       "  <tbody>\n",
       "    <tr>\n",
       "      <th>0</th>\n",
       "      <td>Penguin Books</td>\n",
       "      <td>42</td>\n",
       "    </tr>\n",
       "  </tbody>\n",
       "</table>\n",
       "</div>"
      ],
      "text/plain": [
       "       publisher  long_books_count\n",
       "0  Penguin Books                42"
      ]
     },
     "execution_count": 11,
     "metadata": {},
     "output_type": "execute_result"
    }
   ],
   "source": [
    "table= pd.io.sql.read_sql(query, con = engine)\n",
    "table"
   ]
  },
  {
   "cell_type": "markdown",
   "id": "48a39277",
   "metadata": {},
   "source": [
    "**# Out of all the publishers that published books with over 50 pages, Penguin Books published the greatest number of books (42).**"
   ]
  },
  {
   "cell_type": "markdown",
   "id": "bdf5bb0c",
   "metadata": {},
   "source": [
    "### Q4-  Identify the author with the highest average book rating (look only at books with at least 50 ratings) <a class=\"anchor\" id=\"chapter9\"></a>"
   ]
  },
  {
   "cell_type": "code",
   "execution_count": 12,
   "id": "89177d35",
   "metadata": {},
   "outputs": [],
   "source": [
    "\n",
    "query= \"\"\"\n",
    "   SELECT\n",
    "        authors.author,\n",
    "        AVG(ratings.rating) as avg_rating\n",
    "   FROM books \n",
    "       RIGHT JOIN ratings ON books.book_id= ratings.book_id\n",
    "       RIGHT JOIN authors ON books.author_id= authors.author_id\n",
    "   GROUP BY authors.author\n",
    "   HAVING COUNT(ratings.rating) > 50\n",
    "   ORDER BY avg_rating DESC\n",
    "   LIMIT 1;\n",
    " \"\"\""
   ]
  },
  {
   "cell_type": "code",
   "execution_count": 13,
   "id": "2a993a28",
   "metadata": {},
   "outputs": [
    {
     "data": {
      "text/html": [
       "<div>\n",
       "<style scoped>\n",
       "    .dataframe tbody tr th:only-of-type {\n",
       "        vertical-align: middle;\n",
       "    }\n",
       "\n",
       "    .dataframe tbody tr th {\n",
       "        vertical-align: top;\n",
       "    }\n",
       "\n",
       "    .dataframe thead th {\n",
       "        text-align: right;\n",
       "    }\n",
       "</style>\n",
       "<table border=\"1\" class=\"dataframe\">\n",
       "  <thead>\n",
       "    <tr style=\"text-align: right;\">\n",
       "      <th></th>\n",
       "      <th>author</th>\n",
       "      <th>avg_rating</th>\n",
       "    </tr>\n",
       "  </thead>\n",
       "  <tbody>\n",
       "    <tr>\n",
       "      <th>0</th>\n",
       "      <td>J.K. Rowling/Mary GrandPré</td>\n",
       "      <td>4.288462</td>\n",
       "    </tr>\n",
       "  </tbody>\n",
       "</table>\n",
       "</div>"
      ],
      "text/plain": [
       "                       author  avg_rating\n",
       "0  J.K. Rowling/Mary GrandPré    4.288462"
      ]
     },
     "execution_count": 13,
     "metadata": {},
     "output_type": "execute_result"
    }
   ],
   "source": [
    "table= pd.io.sql.read_sql(query, con = engine)\n",
    "table"
   ]
  },
  {
   "cell_type": "markdown",
   "id": "d7741004",
   "metadata": {},
   "source": [
    "**# Out of all the authors that published books with over 50 pages, .K. Rowling/Mary GrandPré had the highest average book rating (4.29).**"
   ]
  },
  {
   "cell_type": "markdown",
   "id": "3669e9fa",
   "metadata": {},
   "source": [
    "### Q5 - Find the average number of text reviews among users who rated more than 50 books <a class=\"anchor\" id=\"chapter10\"></a>"
   ]
  },
  {
   "cell_type": "code",
   "execution_count": 14,
   "id": "f65c5707",
   "metadata": {},
   "outputs": [],
   "source": [
    "\n",
    "query= \"\"\"\n",
    "SELECT AVG(text_counter.text_count) as avg_text_reviews\n",
    "FROM (SELECT r.username,\n",
    "            count(text) as text_count\n",
    "    FROM reviews as r\n",
    "    WHERE r.username IN (SELECT username\n",
    "                        FROM ratings \n",
    "                        group by username\n",
    "                        HAVING count(rating) > 50)\n",
    "    GROUP BY r.username) AS text_counter;\n",
    "    \"\"\""
   ]
  },
  {
   "cell_type": "code",
   "execution_count": 15,
   "id": "d7b7a41f",
   "metadata": {},
   "outputs": [
    {
     "data": {
      "text/html": [
       "<div>\n",
       "<style scoped>\n",
       "    .dataframe tbody tr th:only-of-type {\n",
       "        vertical-align: middle;\n",
       "    }\n",
       "\n",
       "    .dataframe tbody tr th {\n",
       "        vertical-align: top;\n",
       "    }\n",
       "\n",
       "    .dataframe thead th {\n",
       "        text-align: right;\n",
       "    }\n",
       "</style>\n",
       "<table border=\"1\" class=\"dataframe\">\n",
       "  <thead>\n",
       "    <tr style=\"text-align: right;\">\n",
       "      <th></th>\n",
       "      <th>avg_text_reviews</th>\n",
       "    </tr>\n",
       "  </thead>\n",
       "  <tbody>\n",
       "    <tr>\n",
       "      <th>0</th>\n",
       "      <td>24.333333</td>\n",
       "    </tr>\n",
       "  </tbody>\n",
       "</table>\n",
       "</div>"
      ],
      "text/plain": [
       "   avg_text_reviews\n",
       "0         24.333333"
      ]
     },
     "execution_count": 15,
     "metadata": {},
     "output_type": "execute_result"
    }
   ],
   "source": [
    "table= pd.io.sql.read_sql(query, con = engine)\n",
    "table"
   ]
  },
  {
   "cell_type": "markdown",
   "id": "828cb6d1",
   "metadata": {},
   "source": [
    "**# The average number of text reviews among users who rated more than 50 books is 24.33.**"
   ]
  },
  {
   "cell_type": "markdown",
   "id": "475c82f3",
   "metadata": {},
   "source": [
    "## Conclusions: <a class=\"anchor\" id=\"chapter11\"></a>\n",
    "As part of an initial data-exploration stage, in the process of building an app for book lovers, we wanted to answer a few questions on the book market.\n",
    "We found that:\n",
    "- 1- 819 books were released after January 1, 2000.\n",
    "- 2- Books get reviews (between 0-7 per book) and rating scores (on average between 1.5 to 5).\n",
    "- 3- Out of all the publishers that published books with over 50 pages, Penguin Books published the greatest number of books (42).\n",
    "- 4-  Out of all the authors that published books with over 50 pages, .K. Rowling/Mary GrandPré had the highest average book rating (4.29).\n",
    "- 5- The average number of text reviews among users who rated more than 50 books is 24.33."
   ]
  }
 ],
 "metadata": {
  "ExecuteTimeLog": [
   {
    "duration": 462,
    "start_time": "2022-07-02T12:43:50.079Z"
   },
   {
    "duration": 21490,
    "start_time": "2022-07-02T12:43:50.543Z"
   },
   {
    "duration": 8731,
    "start_time": "2022-07-02T12:44:12.035Z"
   },
   {
    "duration": 3,
    "start_time": "2022-07-02T12:44:20.767Z"
   },
   {
    "duration": 257,
    "start_time": "2022-07-02T12:44:20.772Z"
   },
   {
    "duration": 2,
    "start_time": "2022-07-02T12:44:21.030Z"
   },
   {
    "duration": 114,
    "start_time": "2022-07-02T12:44:21.033Z"
   },
   {
    "duration": 2,
    "start_time": "2022-07-02T12:44:21.148Z"
   },
   {
    "duration": 76,
    "start_time": "2022-07-02T12:44:21.152Z"
   },
   {
    "duration": 2,
    "start_time": "2022-07-02T12:44:21.230Z"
   },
   {
    "duration": 82,
    "start_time": "2022-07-02T12:44:21.234Z"
   },
   {
    "duration": 3,
    "start_time": "2022-07-02T12:44:21.317Z"
   },
   {
    "duration": 80,
    "start_time": "2022-07-02T12:44:21.321Z"
   },
   {
    "duration": 2,
    "start_time": "2022-07-02T12:44:21.404Z"
   },
   {
    "duration": 86,
    "start_time": "2022-07-02T12:44:21.408Z"
   },
   {
    "duration": 3,
    "start_time": "2022-07-02T12:44:21.496Z"
   },
   {
    "duration": 78,
    "start_time": "2022-07-02T12:44:21.500Z"
   },
   {
    "duration": 45,
    "start_time": "2022-07-02T13:17:16.763Z"
   },
   {
    "duration": 503,
    "start_time": "2022-07-02T13:17:24.693Z"
   },
   {
    "duration": 20127,
    "start_time": "2022-07-02T13:17:25.198Z"
   },
   {
    "duration": 9180,
    "start_time": "2022-07-02T13:17:45.327Z"
   },
   {
    "duration": 8,
    "start_time": "2022-07-02T13:17:54.509Z"
   },
   {
    "duration": 5,
    "start_time": "2022-07-02T13:17:54.518Z"
   },
   {
    "duration": 72,
    "start_time": "2022-07-02T13:17:54.524Z"
   },
   {
    "duration": 2,
    "start_time": "2022-07-02T13:17:54.597Z"
   },
   {
    "duration": 31,
    "start_time": "2022-07-02T13:17:54.601Z"
   },
   {
    "duration": 3,
    "start_time": "2022-07-02T13:17:54.633Z"
   },
   {
    "duration": 17,
    "start_time": "2022-07-02T13:17:54.637Z"
   },
   {
    "duration": 2,
    "start_time": "2022-07-02T13:17:54.655Z"
   },
   {
    "duration": 23,
    "start_time": "2022-07-02T13:17:54.659Z"
   },
   {
    "duration": 2,
    "start_time": "2022-07-02T13:17:54.684Z"
   },
   {
    "duration": 15,
    "start_time": "2022-07-02T13:17:54.687Z"
   },
   {
    "duration": 2,
    "start_time": "2022-07-02T13:17:54.704Z"
   },
   {
    "duration": 13,
    "start_time": "2022-07-02T13:17:54.707Z"
   },
   {
    "duration": 2,
    "start_time": "2022-07-02T13:17:54.722Z"
   },
   {
    "duration": 14,
    "start_time": "2022-07-02T13:17:54.725Z"
   },
   {
    "duration": 188,
    "start_time": "2022-07-02T13:23:46.831Z"
   },
   {
    "duration": 113,
    "start_time": "2022-07-02T13:25:42.102Z"
   },
   {
    "duration": 132,
    "start_time": "2022-07-02T13:28:51.112Z"
   },
   {
    "duration": 7,
    "start_time": "2022-07-02T13:29:21.304Z"
   },
   {
    "duration": 22,
    "start_time": "2022-07-02T13:34:26.935Z"
   },
   {
    "duration": 16,
    "start_time": "2022-07-02T13:35:03.304Z"
   },
   {
    "duration": 12,
    "start_time": "2022-07-02T13:35:38.644Z"
   },
   {
    "duration": 14,
    "start_time": "2022-07-02T13:47:07.137Z"
   },
   {
    "duration": 15,
    "start_time": "2022-07-02T13:47:25.644Z"
   },
   {
    "duration": 17,
    "start_time": "2022-07-02T13:49:10.696Z"
   },
   {
    "duration": 13,
    "start_time": "2022-07-02T13:49:34.603Z"
   },
   {
    "duration": 14,
    "start_time": "2022-07-02T13:50:20.004Z"
   },
   {
    "duration": 3,
    "start_time": "2022-07-02T13:55:27.829Z"
   },
   {
    "duration": 151,
    "start_time": "2022-07-02T13:55:29.422Z"
   },
   {
    "duration": 3,
    "start_time": "2022-07-02T13:56:23.333Z"
   },
   {
    "duration": 127,
    "start_time": "2022-07-02T13:56:24.420Z"
   },
   {
    "duration": 117,
    "start_time": "2022-07-02T13:57:15.308Z"
   },
   {
    "duration": 94,
    "start_time": "2022-07-02T13:57:48.247Z"
   },
   {
    "duration": 97,
    "start_time": "2022-07-02T13:58:11.010Z"
   },
   {
    "duration": 438,
    "start_time": "2022-07-02T13:58:23.988Z"
   },
   {
    "duration": 16736,
    "start_time": "2022-07-02T13:58:24.427Z"
   },
   {
    "duration": 9489,
    "start_time": "2022-07-02T13:58:41.165Z"
   },
   {
    "duration": 64,
    "start_time": "2022-07-02T13:58:50.656Z"
   },
   {
    "duration": 0,
    "start_time": "2022-07-02T13:58:50.722Z"
   },
   {
    "duration": 0,
    "start_time": "2022-07-02T13:58:50.724Z"
   },
   {
    "duration": 0,
    "start_time": "2022-07-02T13:58:50.725Z"
   },
   {
    "duration": 0,
    "start_time": "2022-07-02T13:58:50.726Z"
   },
   {
    "duration": 0,
    "start_time": "2022-07-02T13:58:50.729Z"
   },
   {
    "duration": 0,
    "start_time": "2022-07-02T13:58:50.730Z"
   },
   {
    "duration": 0,
    "start_time": "2022-07-02T13:58:50.731Z"
   },
   {
    "duration": 0,
    "start_time": "2022-07-02T13:58:50.733Z"
   },
   {
    "duration": 0,
    "start_time": "2022-07-02T13:58:50.734Z"
   },
   {
    "duration": 0,
    "start_time": "2022-07-02T13:58:50.735Z"
   },
   {
    "duration": 0,
    "start_time": "2022-07-02T13:58:50.737Z"
   },
   {
    "duration": 0,
    "start_time": "2022-07-02T13:58:50.738Z"
   },
   {
    "duration": 0,
    "start_time": "2022-07-02T13:58:50.739Z"
   },
   {
    "duration": 0,
    "start_time": "2022-07-02T13:58:50.742Z"
   },
   {
    "duration": 0,
    "start_time": "2022-07-02T13:58:50.743Z"
   },
   {
    "duration": 0,
    "start_time": "2022-07-02T13:58:50.745Z"
   },
   {
    "duration": 0,
    "start_time": "2022-07-02T13:58:50.746Z"
   },
   {
    "duration": 0,
    "start_time": "2022-07-02T13:58:50.748Z"
   },
   {
    "duration": 0,
    "start_time": "2022-07-02T13:58:50.749Z"
   },
   {
    "duration": 0,
    "start_time": "2022-07-02T13:58:50.750Z"
   },
   {
    "duration": 17046,
    "start_time": "2022-07-02T13:59:02.537Z"
   },
   {
    "duration": 3,
    "start_time": "2022-07-02T14:03:28.732Z"
   },
   {
    "duration": 11,
    "start_time": "2022-07-02T14:03:42.660Z"
   },
   {
    "duration": 152,
    "start_time": "2022-07-02T14:03:52.694Z"
   },
   {
    "duration": 8,
    "start_time": "2022-07-02T14:05:05.688Z"
   },
   {
    "duration": 2,
    "start_time": "2022-07-02T14:06:24.314Z"
   },
   {
    "duration": 7,
    "start_time": "2022-07-02T14:06:25.189Z"
   },
   {
    "duration": 25,
    "start_time": "2022-07-02T14:06:36.850Z"
   },
   {
    "duration": 15,
    "start_time": "2022-07-02T14:11:40.523Z"
   },
   {
    "duration": 32,
    "start_time": "2022-07-02T14:11:45.182Z"
   },
   {
    "duration": 20,
    "start_time": "2022-07-02T14:11:49.440Z"
   },
   {
    "duration": 15,
    "start_time": "2022-07-02T14:11:54.159Z"
   },
   {
    "duration": 180,
    "start_time": "2022-07-02T14:27:54.692Z"
   },
   {
    "duration": 80,
    "start_time": "2022-07-02T14:31:08.396Z"
   },
   {
    "duration": 7,
    "start_time": "2022-07-02T14:37:22.990Z"
   },
   {
    "duration": 8,
    "start_time": "2022-07-02T14:38:06.414Z"
   },
   {
    "duration": 7,
    "start_time": "2022-07-02T14:39:22.596Z"
   },
   {
    "duration": 207,
    "start_time": "2022-07-02T14:41:22.589Z"
   },
   {
    "duration": 7,
    "start_time": "2022-07-02T14:49:08.753Z"
   },
   {
    "duration": 13,
    "start_time": "2022-07-02T15:04:21.849Z"
   },
   {
    "duration": 6,
    "start_time": "2022-07-02T15:05:41.361Z"
   },
   {
    "duration": 10,
    "start_time": "2022-07-02T15:09:22.885Z"
   },
   {
    "duration": 5,
    "start_time": "2022-07-02T15:09:43.375Z"
   },
   {
    "duration": 11,
    "start_time": "2022-07-02T15:11:15.037Z"
   },
   {
    "duration": 6,
    "start_time": "2022-07-02T15:11:22.792Z"
   },
   {
    "duration": 13,
    "start_time": "2022-07-02T15:14:36.169Z"
   },
   {
    "duration": 8,
    "start_time": "2022-07-02T15:14:38.309Z"
   },
   {
    "duration": 9,
    "start_time": "2022-07-02T15:18:58.422Z"
   },
   {
    "duration": 5,
    "start_time": "2022-07-02T15:19:05.287Z"
   },
   {
    "duration": 3,
    "start_time": "2022-07-02T15:22:02.636Z"
   },
   {
    "duration": 10,
    "start_time": "2022-07-02T15:22:03.284Z"
   },
   {
    "duration": 3,
    "start_time": "2022-07-02T15:23:37.251Z"
   },
   {
    "duration": 29,
    "start_time": "2022-07-02T15:23:38.086Z"
   },
   {
    "duration": 12,
    "start_time": "2022-07-02T15:27:18.215Z"
   },
   {
    "duration": 118,
    "start_time": "2022-07-02T15:34:45.158Z"
   },
   {
    "duration": 51,
    "start_time": "2022-07-02T15:35:17.260Z"
   },
   {
    "duration": 87,
    "start_time": "2022-07-02T15:40:06.840Z"
   },
   {
    "duration": 8,
    "start_time": "2022-07-02T15:40:18.280Z"
   },
   {
    "duration": 9,
    "start_time": "2022-07-02T15:41:17.802Z"
   },
   {
    "duration": 43,
    "start_time": "2022-07-02T15:44:11.100Z"
   },
   {
    "duration": 43,
    "start_time": "2022-07-02T15:46:39.655Z"
   },
   {
    "duration": 47,
    "start_time": "2022-07-02T19:48:46.978Z"
   },
   {
    "duration": 523,
    "start_time": "2022-07-02T19:48:55.491Z"
   },
   {
    "duration": 21576,
    "start_time": "2022-07-02T19:48:56.016Z"
   },
   {
    "duration": 6866,
    "start_time": "2022-07-02T19:49:17.594Z"
   },
   {
    "duration": 606,
    "start_time": "2022-07-02T19:49:24.462Z"
   },
   {
    "duration": 374,
    "start_time": "2022-07-02T19:49:25.070Z"
   },
   {
    "duration": 3,
    "start_time": "2022-07-02T19:49:25.446Z"
   },
   {
    "duration": 74,
    "start_time": "2022-07-02T19:49:25.450Z"
   },
   {
    "duration": 10,
    "start_time": "2022-07-02T19:49:25.526Z"
   },
   {
    "duration": 123,
    "start_time": "2022-07-02T19:49:25.538Z"
   },
   {
    "duration": 221,
    "start_time": "2022-07-02T19:49:25.663Z"
   },
   {
    "duration": 0,
    "start_time": "2022-07-02T19:49:25.886Z"
   },
   {
    "duration": 0,
    "start_time": "2022-07-02T19:49:25.887Z"
   },
   {
    "duration": 0,
    "start_time": "2022-07-02T19:49:25.887Z"
   },
   {
    "duration": 0,
    "start_time": "2022-07-02T19:49:25.889Z"
   },
   {
    "duration": 0,
    "start_time": "2022-07-02T19:49:25.890Z"
   },
   {
    "duration": 0,
    "start_time": "2022-07-02T19:49:25.892Z"
   },
   {
    "duration": 0,
    "start_time": "2022-07-02T19:49:25.894Z"
   },
   {
    "duration": 0,
    "start_time": "2022-07-02T19:49:25.895Z"
   },
   {
    "duration": 0,
    "start_time": "2022-07-02T19:49:25.896Z"
   },
   {
    "duration": 0,
    "start_time": "2022-07-02T19:49:25.898Z"
   },
   {
    "duration": 185,
    "start_time": "2022-07-02T19:51:46.428Z"
   },
   {
    "duration": 160,
    "start_time": "2022-07-02T19:52:43.823Z"
   },
   {
    "duration": 111,
    "start_time": "2022-07-02T19:53:05.412Z"
   },
   {
    "duration": 142,
    "start_time": "2022-07-02T19:56:58.047Z"
   },
   {
    "duration": 173,
    "start_time": "2022-07-02T19:57:27.166Z"
   },
   {
    "duration": 195,
    "start_time": "2022-07-02T20:00:16.320Z"
   },
   {
    "duration": 170,
    "start_time": "2022-07-02T20:01:14.026Z"
   },
   {
    "duration": 112,
    "start_time": "2022-07-02T20:01:51.509Z"
   },
   {
    "duration": 119,
    "start_time": "2022-07-02T20:02:14.072Z"
   },
   {
    "duration": 3,
    "start_time": "2022-07-02T20:04:36.300Z"
   },
   {
    "duration": 83,
    "start_time": "2022-07-02T20:04:36.863Z"
   },
   {
    "duration": 4,
    "start_time": "2022-07-02T20:07:16.956Z"
   },
   {
    "duration": 86,
    "start_time": "2022-07-02T20:07:17.490Z"
   },
   {
    "duration": 5,
    "start_time": "2022-07-02T20:09:57.432Z"
   },
   {
    "duration": 77,
    "start_time": "2022-07-02T20:09:58.030Z"
   },
   {
    "duration": 3,
    "start_time": "2022-07-02T20:11:57.256Z"
   },
   {
    "duration": 80,
    "start_time": "2022-07-02T20:11:57.789Z"
   },
   {
    "duration": 3,
    "start_time": "2022-07-02T20:12:02.737Z"
   },
   {
    "duration": 83,
    "start_time": "2022-07-02T20:12:03.222Z"
   },
   {
    "duration": 113,
    "start_time": "2022-07-02T20:20:41.099Z"
   },
   {
    "duration": 127,
    "start_time": "2022-07-02T20:23:06.178Z"
   },
   {
    "duration": 104,
    "start_time": "2022-07-02T20:23:26.877Z"
   },
   {
    "duration": 81,
    "start_time": "2022-07-02T20:23:41.813Z"
   },
   {
    "duration": 531,
    "start_time": "2022-07-03T10:33:45.127Z"
   },
   {
    "duration": 19727,
    "start_time": "2022-07-03T10:33:45.660Z"
   },
   {
    "duration": 8751,
    "start_time": "2022-07-03T10:34:05.389Z"
   },
   {
    "duration": 592,
    "start_time": "2022-07-03T10:34:14.142Z"
   },
   {
    "duration": 360,
    "start_time": "2022-07-03T10:34:14.735Z"
   },
   {
    "duration": 3,
    "start_time": "2022-07-03T10:34:15.096Z"
   },
   {
    "duration": 78,
    "start_time": "2022-07-03T10:34:15.101Z"
   },
   {
    "duration": 3,
    "start_time": "2022-07-03T10:34:15.180Z"
   },
   {
    "duration": 121,
    "start_time": "2022-07-03T10:34:15.184Z"
   },
   {
    "duration": 83,
    "start_time": "2022-07-03T10:34:15.308Z"
   },
   {
    "duration": 2,
    "start_time": "2022-07-03T10:34:15.393Z"
   },
   {
    "duration": 83,
    "start_time": "2022-07-03T10:34:15.396Z"
   },
   {
    "duration": 3,
    "start_time": "2022-07-03T10:34:15.480Z"
   },
   {
    "duration": 88,
    "start_time": "2022-07-03T10:34:15.484Z"
   },
   {
    "duration": 2,
    "start_time": "2022-07-03T10:34:15.574Z"
   },
   {
    "duration": 79,
    "start_time": "2022-07-03T10:34:15.578Z"
   },
   {
    "duration": 2,
    "start_time": "2022-07-03T10:34:15.659Z"
   },
   {
    "duration": 83,
    "start_time": "2022-07-03T10:34:15.662Z"
   },
   {
    "duration": 2,
    "start_time": "2022-07-03T10:34:15.747Z"
   },
   {
    "duration": 81,
    "start_time": "2022-07-03T10:34:15.750Z"
   },
   {
    "duration": 48,
    "start_time": "2022-07-03T11:38:59.384Z"
   },
   {
    "duration": 513,
    "start_time": "2022-07-03T11:39:07.388Z"
   },
   {
    "duration": 20781,
    "start_time": "2022-07-03T11:39:07.903Z"
   },
   {
    "duration": 9104,
    "start_time": "2022-07-03T11:39:28.687Z"
   },
   {
    "duration": 105,
    "start_time": "2022-07-03T11:39:37.793Z"
   },
   {
    "duration": 44,
    "start_time": "2022-07-03T11:39:37.900Z"
   },
   {
    "duration": 3,
    "start_time": "2022-07-03T11:39:37.946Z"
   },
   {
    "duration": 13,
    "start_time": "2022-07-03T11:39:37.950Z"
   },
   {
    "duration": 3,
    "start_time": "2022-07-03T11:39:37.964Z"
   },
   {
    "duration": 28,
    "start_time": "2022-07-03T11:39:37.969Z"
   },
   {
    "duration": 26,
    "start_time": "2022-07-03T11:39:38.000Z"
   },
   {
    "duration": 3825,
    "start_time": "2022-07-03T11:39:38.028Z"
   },
   {
    "duration": 2,
    "start_time": "2022-07-03T11:39:41.855Z"
   },
   {
    "duration": 14,
    "start_time": "2022-07-03T11:39:41.859Z"
   },
   {
    "duration": 2,
    "start_time": "2022-07-03T11:39:41.875Z"
   },
   {
    "duration": 17,
    "start_time": "2022-07-03T11:39:41.878Z"
   },
   {
    "duration": 2,
    "start_time": "2022-07-03T11:39:41.897Z"
   },
   {
    "duration": 25,
    "start_time": "2022-07-03T11:39:41.901Z"
   },
   {
    "duration": 2,
    "start_time": "2022-07-03T11:39:41.928Z"
   },
   {
    "duration": 15,
    "start_time": "2022-07-03T11:39:41.931Z"
   },
   {
    "duration": 2,
    "start_time": "2022-07-03T11:39:41.948Z"
   },
   {
    "duration": 19,
    "start_time": "2022-07-03T11:39:41.951Z"
   },
   {
    "duration": 3568,
    "start_time": "2022-07-03T11:44:45.184Z"
   },
   {
    "duration": 167,
    "start_time": "2022-07-03T11:46:43.535Z"
   },
   {
    "duration": 110,
    "start_time": "2022-07-03T11:47:09.208Z"
   },
   {
    "duration": 3356,
    "start_time": "2022-07-03T11:49:39.023Z"
   },
   {
    "duration": 25,
    "start_time": "2022-07-03T11:53:23.988Z"
   },
   {
    "duration": 3949,
    "start_time": "2022-07-03T11:56:08.916Z"
   },
   {
    "duration": 505,
    "start_time": "2022-07-03T11:56:33.772Z"
   },
   {
    "duration": 17995,
    "start_time": "2022-07-03T11:56:34.279Z"
   },
   {
    "duration": 8807,
    "start_time": "2022-07-03T11:56:52.277Z"
   },
   {
    "duration": 118,
    "start_time": "2022-07-03T11:57:01.086Z"
   },
   {
    "duration": 45,
    "start_time": "2022-07-03T11:57:01.207Z"
   },
   {
    "duration": 2,
    "start_time": "2022-07-03T11:57:01.254Z"
   },
   {
    "duration": 14,
    "start_time": "2022-07-03T11:57:01.258Z"
   },
   {
    "duration": 3,
    "start_time": "2022-07-03T11:57:01.273Z"
   },
   {
    "duration": 33,
    "start_time": "2022-07-03T11:57:01.277Z"
   },
   {
    "duration": 24,
    "start_time": "2022-07-03T11:57:01.311Z"
   },
   {
    "duration": 3921,
    "start_time": "2022-07-03T11:57:01.337Z"
   },
   {
    "duration": 3721,
    "start_time": "2022-07-03T11:57:05.260Z"
   },
   {
    "duration": 3,
    "start_time": "2022-07-03T11:57:08.983Z"
   },
   {
    "duration": 42,
    "start_time": "2022-07-03T11:57:08.989Z"
   },
   {
    "duration": 2,
    "start_time": "2022-07-03T11:57:09.033Z"
   },
   {
    "duration": 47,
    "start_time": "2022-07-03T11:57:09.037Z"
   },
   {
    "duration": 14,
    "start_time": "2022-07-03T11:57:09.086Z"
   },
   {
    "duration": 32,
    "start_time": "2022-07-03T11:57:09.102Z"
   },
   {
    "duration": 3,
    "start_time": "2022-07-03T11:57:09.135Z"
   },
   {
    "duration": 29,
    "start_time": "2022-07-03T11:57:09.140Z"
   },
   {
    "duration": 13,
    "start_time": "2022-07-03T11:57:09.171Z"
   },
   {
    "duration": 29,
    "start_time": "2022-07-03T11:57:09.187Z"
   },
   {
    "duration": 507,
    "start_time": "2022-07-03T18:05:33.981Z"
   },
   {
    "duration": 19358,
    "start_time": "2022-07-03T18:05:34.489Z"
   },
   {
    "duration": 9800,
    "start_time": "2022-07-03T18:05:53.849Z"
   },
   {
    "duration": 596,
    "start_time": "2022-07-03T18:06:03.651Z"
   },
   {
    "duration": 392,
    "start_time": "2022-07-03T18:06:04.248Z"
   },
   {
    "duration": 2,
    "start_time": "2022-07-03T18:06:04.642Z"
   },
   {
    "duration": 94,
    "start_time": "2022-07-03T18:06:04.646Z"
   },
   {
    "duration": 3,
    "start_time": "2022-07-03T18:06:04.742Z"
   },
   {
    "duration": 124,
    "start_time": "2022-07-03T18:06:04.746Z"
   },
   {
    "duration": 98,
    "start_time": "2022-07-03T18:06:04.872Z"
   },
   {
    "duration": 4516,
    "start_time": "2022-07-03T18:06:04.972Z"
   },
   {
    "duration": 2,
    "start_time": "2022-07-03T18:06:09.490Z"
   },
   {
    "duration": 92,
    "start_time": "2022-07-03T18:06:09.494Z"
   },
   {
    "duration": 3,
    "start_time": "2022-07-03T18:06:09.588Z"
   },
   {
    "duration": 86,
    "start_time": "2022-07-03T18:06:09.592Z"
   },
   {
    "duration": 3,
    "start_time": "2022-07-03T18:06:09.679Z"
   },
   {
    "duration": 104,
    "start_time": "2022-07-03T18:06:09.684Z"
   },
   {
    "duration": 3,
    "start_time": "2022-07-03T18:06:09.790Z"
   },
   {
    "duration": 96,
    "start_time": "2022-07-03T18:06:09.795Z"
   },
   {
    "duration": 3,
    "start_time": "2022-07-03T18:06:09.893Z"
   },
   {
    "duration": 100,
    "start_time": "2022-07-03T18:06:09.898Z"
   },
   {
    "duration": 120,
    "start_time": "2022-07-03T18:13:57.847Z"
   },
   {
    "duration": 44,
    "start_time": "2022-07-03T19:09:18.683Z"
   },
   {
    "duration": 509,
    "start_time": "2022-07-03T19:09:30.607Z"
   },
   {
    "duration": 19556,
    "start_time": "2022-07-03T19:09:31.118Z"
   },
   {
    "duration": 9983,
    "start_time": "2022-07-03T19:09:50.677Z"
   },
   {
    "duration": 125,
    "start_time": "2022-07-03T19:10:00.662Z"
   },
   {
    "duration": 43,
    "start_time": "2022-07-03T19:10:00.789Z"
   },
   {
    "duration": 3,
    "start_time": "2022-07-03T19:10:00.833Z"
   },
   {
    "duration": 16,
    "start_time": "2022-07-03T19:10:00.837Z"
   },
   {
    "duration": 2,
    "start_time": "2022-07-03T19:10:00.855Z"
   },
   {
    "duration": 38,
    "start_time": "2022-07-03T19:10:00.859Z"
   },
   {
    "duration": 22,
    "start_time": "2022-07-03T19:10:00.899Z"
   },
   {
    "duration": 7,
    "start_time": "2022-07-03T19:10:00.923Z"
   },
   {
    "duration": 26,
    "start_time": "2022-07-03T19:10:00.932Z"
   },
   {
    "duration": 2,
    "start_time": "2022-07-03T19:10:00.959Z"
   },
   {
    "duration": 15,
    "start_time": "2022-07-03T19:10:00.963Z"
   },
   {
    "duration": 23,
    "start_time": "2022-07-03T19:10:00.980Z"
   },
   {
    "duration": 46,
    "start_time": "2022-07-03T19:10:01.005Z"
   },
   {
    "duration": 3,
    "start_time": "2022-07-03T19:10:01.052Z"
   },
   {
    "duration": 21,
    "start_time": "2022-07-03T19:10:01.056Z"
   },
   {
    "duration": 3,
    "start_time": "2022-07-03T19:10:01.079Z"
   },
   {
    "duration": 27,
    "start_time": "2022-07-03T19:10:01.084Z"
   },
   {
    "duration": 10,
    "start_time": "2022-07-03T19:10:01.112Z"
   },
   {
    "duration": 33,
    "start_time": "2022-07-03T19:10:01.123Z"
   }
  ],
  "kernelspec": {
   "display_name": "Python 3 (ipykernel)",
   "language": "python",
   "name": "python3"
  },
  "language_info": {
   "codemirror_mode": {
    "name": "ipython",
    "version": 3
   },
   "file_extension": ".py",
   "mimetype": "text/x-python",
   "name": "python",
   "nbconvert_exporter": "python",
   "pygments_lexer": "ipython3",
   "version": "3.9.7"
  },
  "toc": {
   "base_numbering": 1,
   "nav_menu": {},
   "number_sections": true,
   "sideBar": true,
   "skip_h1_title": true,
   "title_cell": "Table of Contents",
   "title_sidebar": "Contents",
   "toc_cell": false,
   "toc_position": {},
   "toc_section_display": true,
   "toc_window_display": false
  }
 },
 "nbformat": 4,
 "nbformat_minor": 5
}
